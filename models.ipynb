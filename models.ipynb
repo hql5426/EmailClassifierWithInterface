{
 "cells": [
  {
   "cell_type": "code",
   "execution_count": 1,
   "metadata": {},
   "outputs": [
    {
     "name": "stderr",
     "output_type": "stream",
     "text": [
      "[nltk_data] Downloading package stopwords to\n",
      "[nltk_data]     C:\\Users\\hayde\\AppData\\Roaming\\nltk_data...\n",
      "[nltk_data]   Package stopwords is already up-to-date!\n",
      "[nltk_data] Downloading package wordnet to\n",
      "[nltk_data]     C:\\Users\\hayde\\AppData\\Roaming\\nltk_data...\n",
      "[nltk_data]   Package wordnet is already up-to-date!\n"
     ]
    }
   ],
   "source": [
    "from sklearn.metrics import accuracy_score, f1_score, roc_auc_score\n",
    "from sklearn.svm import SVC\n",
    "from sklearn.naive_bayes import GaussianNB\n",
    "from sklearn.ensemble import RandomForestClassifier, VotingClassifier\n",
    "from good_email_processor import preprocess\n",
    "from sklearn.model_selection import cross_val_score\n",
    "from pickler import pickling_training_data\n",
    "from sklearn.linear_model import LogisticRegression\n",
    "import sys\n",
    "import numpy as np\n",
    "import pandas as pd\n",
    "import pickle as pick\n",
    "sys.path.append(\n",
    "    \"C:\\\\Users\\\\hayde\\\\OneDrive\\\\Documents\\\\Final_Project_497\\\\code_from_tutorial\\\\Email-Classification\\\\\")\n",
    "\n",
    "#some of the model code adapted from https://github.com/MahnoorJaved98/Email-Classification"
   ]
  },
  {
   "cell_type": "code",
   "execution_count": 2,
   "metadata": {},
   "outputs": [],
   "source": [
    "#email processor\n",
    "labelfile, datafile = pickling_training_data()\n",
    "features_train, features_test, labels_train, labels_test = preprocess(labelfile, datafile)\n"
   ]
  },
  {
   "cell_type": "code",
   "execution_count": 3,
   "metadata": {},
   "outputs": [],
   "source": [
    "#evaluation function\n",
    "\n",
    "def evaluation(currentModel, modelName, labels_test, isFirst = False):\n",
    "\n",
    "      pred = currentModel.predict(features_test)\n",
    "\n",
    "      labelV = np.array([1 if x != 'ham' else 0 for x in labels_test.values])\n",
    "      print(labelV)\n",
    "\n",
    "      predV = np.array([1 if x != 'ham' else 0 for x in pred])\n",
    "      print(predV)\n",
    "\n",
    "      print(\"Prediction for element 10th, 26th and 50th are:\",\n",
    "            pred[10], pred[26], pred[50])\n",
    "\n",
    "      print('Number of events predicted in Spam class is: ',\n",
    "            sum(currentModel.predict(features_test) == 'spam'))\n",
    "      \n",
    "      labelV = labelV.reshape(1, -1)\n",
    "      predV = predV.reshape(1, -1)\n",
    "\n",
    "      formatted_accuracy =  format(accuracy_score(labels_test, pred), \".5f\")\n",
    "\n",
    "      print(\"Accuracy of \" + modelName + \" Classifier: \" + formatted_accuracy)\n",
    "      \n",
    "      labelV = labelV.reshape(-1, 1)\n",
    "      predV = predV.reshape(-1, 1)\n",
    "\n",
    "      formatted_auc =  format(roc_auc_score(labelV, predV), \".5f\")\n",
    "\n",
    "      formatted_f1 =  format(f1_score(labels_test, pred, pos_label='spam'), \".5f\")\n",
    "\n",
    "      #formatted_cross_val =  format(cross_val_score(currentModel, features_test, labels_test, cv=10), \".5f\")\n",
    "      \n",
    "      print(\"AUC Score of \" + modelName + \" Classifier: \" + formatted_auc)\n",
    "      \n",
    "      print(\"F1Score of \" + modelName + \" Classifier: \" + formatted_f1)\n",
    "\n",
    "      #print(\"Cross Val Score of \"+ modelName + \" Classifier: \" + formatted_cross_val)\n",
    "\n",
    "      save_and_write_results(modelName, formatted_accuracy, formatted_auc, formatted_f1, isFirst)\n",
    "\n",
    "      save_model(currentModel, modelName)\n",
    "      \n",
    "\n"
   ]
  },
  {
   "cell_type": "code",
   "execution_count": 4,
   "metadata": {},
   "outputs": [],
   "source": [
    "#saving model to pickle\n",
    "def save_model(currentModel, modelName):\n",
    "    model_fileName = \"C:\\\\Users\\\\hayde\\\\OneDrive\\\\Documents\\\\Final_Project_497\\\\final_code\\\\models\\\\\" + modelName + \"_default_params\" + \".pkl\"\n",
    "    pick.dump(currentModel, open(model_fileName, 'wb'))"
   ]
  },
  {
   "cell_type": "code",
   "execution_count": 5,
   "metadata": {},
   "outputs": [],
   "source": [
    "#saving results to csv\n",
    "def save_and_write_results(currentModel, formatted_accuracy, formatted_auc, formatted_f1, isFirst = False):\n",
    "      \n",
    "    data = [currentModel, formatted_accuracy, formatted_auc, formatted_f1]\n",
    "\n",
    "    columns = ['Model', 'Accuracy', 'AUC', 'F1 Score']\n",
    "\n",
    "    df = pd.DataFrame([data], columns=columns, index=None)\n",
    "\n",
    "    print(df.to_string())\n",
    "\n",
    "    if isFirst is True:\n",
    "        df.to_csv('results_cleaned_5_percentile_lemmatized.csv', index=None)\n",
    "    \n",
    "    else:\n",
    "        df.to_csv('results_cleaned_5_percentile_lemmatized.csv', mode='a', index=None, header=None)"
   ]
  },
  {
   "cell_type": "code",
   "execution_count": 7,
   "metadata": {},
   "outputs": [
    {
     "name": "stdout",
     "output_type": "stream",
     "text": [
      "[0 0 1 ... 0 0 1]\n",
      "[0 0 1 ... 0 0 1]\n",
      "Prediction for element 10th, 26th and 50th are: ham spam spam\n",
      "Number of events predicted in Spam class is:  947\n",
      "Accuracy of Logistic Regression Classifier: 0.97701\n",
      "AUC Score of Logistic Regression Classifier: 0.97652\n",
      "F1Score of Logistic Regression Classifier: 0.97797\n",
      "                 Model Accuracy      AUC F1 Score\n",
      "0  Logistic Regression  0.97701  0.97652  0.97797\n"
     ]
    }
   ],
   "source": [
    "#Logistic Regression as Baseline\n",
    "logistic = LogisticRegression().fit(features_train, labels_train)\n",
    "modelName = \"Logistic Regression\"\n",
    "evaluation(logistic, modelName, labels_test, isFirst = True)"
   ]
  },
  {
   "cell_type": "code",
   "execution_count": 6,
   "metadata": {},
   "outputs": [
    {
     "name": "stdout",
     "output_type": "stream",
     "text": [
      "[0 0 1 ... 0 0 1]\n",
      "[0 0 1 ... 0 0 1]\n",
      "Prediction for element 10th, 26th and 50th are: ham spam spam\n",
      "Number of events predicted in Spam class is:  873\n",
      "Accuracy of NaiveBayes Classifier: 0.95345\n",
      "AUC Score of NaiveBayes Classifier: 0.95400\n",
      "F1Score of NaiveBayes Classifier: 0.95355\n",
      "        Model Accuracy      AUC F1 Score\n",
      "0  NaiveBayes  0.95345  0.95400  0.95355\n"
     ]
    }
   ],
   "source": [
    "#Naive Bayes Training and Eval\n",
    "naive = GaussianNB()\n",
    "naive.fit(features_train, labels_train)\n",
    "modelName = \"NaiveBayes\"\n",
    "evaluation(naive, modelName, labels_test)"
   ]
  },
  {
   "cell_type": "code",
   "execution_count": 8,
   "metadata": {},
   "outputs": [
    {
     "name": "stdout",
     "output_type": "stream",
     "text": [
      "[0 0 1 ... 0 0 1]\n",
      "[0 0 1 ... 0 0 1]\n",
      "Prediction for element 10th, 26th and 50th are: ham spam spam\n",
      "Number of events predicted in Spam class is:  929\n",
      "Accuracy of RandomForest Classifier: 0.98037\n",
      "AUC Score of RandomForest Classifier: 0.98015\n",
      "F1Score of RandomForest Classifier: 0.98101\n",
      "          Model Accuracy      AUC F1 Score\n",
      "0  RandomForest  0.98037  0.98015  0.98101\n"
     ]
    }
   ],
   "source": [
    "#Random Forest Training and Eval\n",
    "#good params: n_estimators=50, random_state=1\n",
    "rand = RandomForestClassifier()\n",
    "rand.fit(features_train, labels_train)\n",
    "modelName = \"RandomForest\"\n",
    "\n",
    "evaluation(rand, modelName, labels_test)"
   ]
  },
  {
   "cell_type": "code",
   "execution_count": 9,
   "metadata": {},
   "outputs": [],
   "source": [
    "#SVM Training and Eval\n",
    "#good params: C=10000, kernel='rbf'\n",
    "svm = SVC()\n",
    "svm.fit(features_train, labels_train)\n",
    "modelName = \"SVM\"\n",
    "evaluation(svm, modelName, labels_test)"
   ]
  },
  {
   "cell_type": "code",
   "execution_count": null,
   "metadata": {},
   "outputs": [
    {
     "name": "stdout",
     "output_type": "stream",
     "text": [
      "[0 0 1 ... 0 0 1]\n",
      "[0 0 1 ... 0 0 1]\n",
      "Prediction for element 10th, 26th and 50th are: ham spam spam\n",
      "Number of events predicted in Spam class is:  921\n",
      "Accuracy of VotingClassifier Classifier: 0.98486\n",
      "AUC Score of VotingClassifier Classifier: 0.98475\n",
      "F1Score of VotingClassifier Classifier: 0.98529\n",
      "              Model Accuracy      AUC F1 Score\n",
      "0  VotingClassifier  0.98486  0.98475  0.98529\n"
     ]
    }
   ],
   "source": [
    "#Voting Training and Eval\n",
    "voteclf = VotingClassifier(estimators=[('Random Forest', rand), ('Naive Bayes', naive), ('SVM', svm)], voting='hard')\n",
    "voteclf = voteclf.fit(features_train, labels_train)\n",
    "modelName = \"VotingClassifier\"\n",
    "evaluation(voteclf, modelName, labels_test)"
   ]
  },
  {
   "cell_type": "code",
   "execution_count": null,
   "metadata": {},
   "outputs": [],
   "source": []
  },
  {
   "cell_type": "code",
   "execution_count": null,
   "metadata": {},
   "outputs": [],
   "source": [
    "#saving vectorizer and selector\n",
    "\n",
    "# saveVect = \"vectorizer\"\n",
    "# saveSelect = \"selector\"\n",
    "\n",
    "# save_model(saveVect, vectorizer)\n",
    "# save_model(saveSelect, selector)\n",
    "    "
   ]
  }
 ],
 "metadata": {
  "interpreter": {
   "hash": "e11dcf8737a3d5878be68641351c576f7a9c28d21e180da7c502ec8fbad844df"
  },
  "kernelspec": {
   "display_name": "Python 3.8.8 32-bit ('final_497_code': venv)",
   "language": "python",
   "name": "python3"
  },
  "language_info": {
   "codemirror_mode": {
    "name": "ipython",
    "version": 3
   },
   "file_extension": ".py",
   "mimetype": "text/x-python",
   "name": "python",
   "nbconvert_exporter": "python",
   "pygments_lexer": "ipython3",
   "version": "3.8.10"
  },
  "orig_nbformat": 4
 },
 "nbformat": 4,
 "nbformat_minor": 2
}
